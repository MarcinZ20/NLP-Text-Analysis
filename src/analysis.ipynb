{
 "cells": [
  {
   "cell_type": "markdown",
   "metadata": {},
   "source": [
    "# NLP Text Analysis"
   ]
  },
  {
   "cell_type": "markdown",
   "metadata": {},
   "source": [
    "This notebook performs a **Static Analysis** of two texts:\n",
    "- *Text one*\n",
    "- *Text two*\n",
    "\n",
    "It uses functionality of the **Zipf** module, that can also be found in this project.\n",
    "\n",
    "Below, are the clear instructions and step by step guide of what's going on.\n",
    "\n",
    "For further explanation and usage of the functions, please refer to the insides of the Zipf module, which contains all the necessary documentation."
   ]
  },
  {
   "cell_type": "markdown",
   "metadata": {},
   "source": [
    "<hr>"
   ]
  },
  {
   "cell_type": "markdown",
   "metadata": {},
   "source": [
    "#### Imports\n",
    "First, we need to import some classes\n",
    "\n",
    "1. From *processing.zipf* we import `ZipfAnalyzer`, `ZipfPlotter`, `ZpifWriter` classes\n",
    "2. From *models.text* we import `Text` class"
   ]
  },
  {
   "cell_type": "code",
   "execution_count": 13,
   "metadata": {},
   "outputs": [
    {
     "ename": "ImportError",
     "evalue": "cannot import name 'ZipfWriter' from 'processing.zipf' (/Users/marcin/AGH/semestr_5/nlp/NLP-Text-Analysis/src/processing/zipf.py)",
     "output_type": "error",
     "traceback": [
      "\u001b[0;31m---------------------------------------------------------------------------\u001b[0m",
      "\u001b[0;31mImportError\u001b[0m                               Traceback (most recent call last)",
      "Cell \u001b[0;32mIn[13], line 1\u001b[0m\n\u001b[0;32m----> 1\u001b[0m \u001b[38;5;28;01mfrom\u001b[39;00m \u001b[38;5;21;01mprocessing\u001b[39;00m\u001b[38;5;21;01m.\u001b[39;00m\u001b[38;5;21;01mzipf\u001b[39;00m \u001b[38;5;28;01mimport\u001b[39;00m ZipfAnalyzer, ZipfPlotter, ZipfWriter\n\u001b[1;32m      2\u001b[0m \u001b[38;5;28;01mfrom\u001b[39;00m \u001b[38;5;21;01mmodels\u001b[39;00m\u001b[38;5;21;01m.\u001b[39;00m\u001b[38;5;21;01mtext\u001b[39;00m \u001b[38;5;28;01mimport\u001b[39;00m Text\n",
      "\u001b[0;31mImportError\u001b[0m: cannot import name 'ZipfWriter' from 'processing.zipf' (/Users/marcin/AGH/semestr_5/nlp/NLP-Text-Analysis/src/processing/zipf.py)"
     ]
    }
   ],
   "source": [
    "from processing.zipf import ZipfAnalyzer, ZipfPlotter, ZipfWriter\n",
    "from models.text import Text"
   ]
  },
  {
   "cell_type": "markdown",
   "metadata": {},
   "source": [
    "#### Variable declaration\n",
    "We create two text objects with specified properties"
   ]
  },
  {
   "cell_type": "code",
   "execution_count": 4,
   "metadata": {},
   "outputs": [],
   "source": [
    "text_1 = Text(text_name=\"Cien annos de soledad\", \n",
    "              text_author=\"Gabriel Garcia Marquez\",\n",
    "              text_file_url=\"https://gist.githubusercontent.com/ismaproco/6781d297ee65c6a707cd3c901e87ec56/raw/20d3520cd7c53d99215845375b1dca16ac827bd7/gabriel_garcia_marquez_cien_annos_soledad.txt\")\n",
    "\n",
    "text_2 = Text(text_name=\"Manuskrypt Wojnicza\", \n",
    "              text_file_url=\"https://www.ic.unicamp.br/~stolfi/voynich/mirror/reeds/docs/FSG.txt\")"
   ]
  },
  {
   "cell_type": "markdown",
   "metadata": {},
   "source": [
    "#### Zipf text analysis"
   ]
  }
 ],
 "metadata": {
  "kernelspec": {
   "display_name": "nlp-1xcOLE18-py3.10",
   "language": "python",
   "name": "python3"
  },
  "language_info": {
   "codemirror_mode": {
    "name": "ipython",
    "version": 3
   },
   "file_extension": ".py",
   "mimetype": "text/x-python",
   "name": "python",
   "nbconvert_exporter": "python",
   "pygments_lexer": "ipython3",
   "version": "3.10.13"
  }
 },
 "nbformat": 4,
 "nbformat_minor": 2
}
